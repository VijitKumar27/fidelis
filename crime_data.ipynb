{
 "cells": [
  {
   "cell_type": "code",
   "execution_count": 1,
   "metadata": {},
   "outputs": [
    {
     "ename": "SyntaxError",
     "evalue": "invalid syntax (Temp/ipykernel_28492/1904814266.py, line 2)",
     "output_type": "error",
     "traceback": [
      "\u001b[1;36m  File \u001b[1;32m\"C:\\Users\\utkar\\AppData\\Local\\Temp/ipykernel_28492/1904814266.py\"\u001b[1;36m, line \u001b[1;32m2\u001b[0m\n\u001b[1;33m    import\u001b[0m\n\u001b[1;37m           ^\u001b[0m\n\u001b[1;31mSyntaxError\u001b[0m\u001b[1;31m:\u001b[0m invalid syntax\n"
     ]
    }
   ],
   "source": [
    "import pandas as pd\n",
    "import \n",
    "f=open('data.csv','w')\n",
    "drv = []\n",
    "f = open('','r')\n",
    "\n",
    "for line in f:\n",
    "    drv.append(line.strip())\n",
    "la = pd.read_csv(\"crime.csv\",usecols=['driverId','time','raceId'])\n",
    "for i in drv:\n",
    "    la1 = la[la['raceId']==int(i)]\n",
    "    la1.to_csv('laps.csv',mode='a',header=False,index=False)"
   ]
  },
  {
   "cell_type": "markdown",
   "metadata": {},
   "source": []
  }
 ],
 "metadata": {
  "interpreter": {
   "hash": "f1680fa01d71a00f68f22c8ea440229b1dd33f2e70cc503dc3e512cd091a2af1"
  },
  "kernelspec": {
   "display_name": "Python 3.9.6 64-bit",
   "name": "python3"
  },
  "language_info": {
   "codemirror_mode": {
    "name": "ipython",
    "version": 3
   },
   "file_extension": ".py",
   "mimetype": "text/x-python",
   "name": "python",
   "nbconvert_exporter": "python",
   "pygments_lexer": "ipython3",
   "version": "3.9.6"
  },
  "orig_nbformat": 4
 },
 "nbformat": 4,
 "nbformat_minor": 2
}
