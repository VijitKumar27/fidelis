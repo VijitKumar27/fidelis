{
 "cells": [
  {
   "cell_type": "code",
   "execution_count": null,
   "metadata": {},
   "outputs": [],
   "source": [
    "import pandas as pd\n",
    "import \n",
    "f=open('data.csv','w')\n",
    "drv = []\n",
    "f = open('','r')\n",
    "\n",
    "for line in f:\n",
    "    drv.append(line.strip())\n",
    "la = pd.read_csv(\"crime.csv\",usecols=['driverId','time','raceId'])\n",
    "for i in drv:\n",
    "    la1 = la[la['raceId']==int(i)]\n",
    "    la1.to_csv('laps.csv',mode='a',header=False,index=False)"
   ]
  },
  {
   "cell_type": "markdown",
   "metadata": {},
   "source": []
  }
 ],
 "metadata": {
  "language_info": {
   "name": "python"
  },
  "orig_nbformat": 4
 },
 "nbformat": 4,
 "nbformat_minor": 2
}
